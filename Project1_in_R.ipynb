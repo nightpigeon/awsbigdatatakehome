{
  "nbformat": 4,
  "nbformat_minor": 0,
  "metadata": {
    "colab": {
      "name": "Project1_in R",
      "provenance": [],
      "toc_visible": true,
      "include_colab_link": true
    },
    "kernelspec": {
      "name": "ir",
      "display_name": "R"
    }
  },
  "cells": [
    {
      "cell_type": "markdown",
      "metadata": {
        "id": "view-in-github",
        "colab_type": "text"
      },
      "source": [
        "<a href=\"https://colab.research.google.com/github/pavankemani/bigdatatakehome/blob/master/Project1_in_R.ipynb\" target=\"_parent\"><img src=\"https://colab.research.google.com/assets/colab-badge.svg\" alt=\"Open In Colab\"/></a>"
      ]
    },
    {
      "cell_type": "code",
      "metadata": {
        "id": "O7BSjLK2ilxG"
      },
      "source": [
        ""
      ],
      "execution_count": null,
      "outputs": []
    },
    {
      "cell_type": "markdown",
      "metadata": {
        "id": "rWJTDn9_SbgU"
      },
      "source": [
        ""
      ]
    },
    {
      "cell_type": "code",
      "metadata": {
        "id": "HB5vko31Sbxi"
      },
      "source": [
        ""
      ],
      "execution_count": null,
      "outputs": []
    },
    {
      "cell_type": "markdown",
      "metadata": {
        "id": "FSgXJ_K7i3Ck"
      },
      "source": [
        "# Main text of Lab Project"
      ]
    },
    {
      "cell_type": "markdown",
      "metadata": {
        "id": "7ehIbaMvi_cV"
      },
      "source": [
        "---\r\n",
        "title: 'Lab 1: Hypothesis Testing'\r\n",
        "author: \"w203 Teaching Team\"\r\n",
        "output:\r\n",
        "  pdf_document: default\r\n",
        "---\r\n",
        "\r\n",
        "# Overview\r\n",
        "\r\n",
        "The American National Election Studies (ANES) conducts surveys of voters in the United States, with a flagship survey occurring immediately before and after each presidential election.  While the post-election data for 2020 is not yet available, pre-election data is available as a preliminary release.  In this lab, you will use the ANES data to answer questions about voters in the US.\r\n",
        "\r\n",
        "This lab consists of three research questions.  For each question, your team will conduct a statistical analysis and generate a written report in pdf format.  This means that you will create three separate reports, each one a complete analysis on its own. (This is especially important since different graders may grade each of your responses.)\r\n",
        "\r\n",
        "This is an exercise in both statistics and professional communication.  It is important that your techniques are properly executed; equally important is that your writing is clear and organized, and your argument well justified. \r\n",
        "\r\n",
        "Your instructor will divide you into teams to work on this lab. Our goal is that each student learns as much as possible through conducting this lab. A divide-and-conquer approach might be the most expedient way to *finish* the work on this lab, but it might not be the way for each person to maximize their learning. Instead, we would like teams to collaborate and review each others' work, ask questions about approach, and work to improve writing, argument, and code. \r\n",
        "\r\n",
        "This one week lab is due before your Unit 9 live session.  You will find a separate place on Gradescope to submit each of your three responses, along with the source file used to create your pdf.\r\n",
        "\r\n",
        "# Data \r\n",
        "\r\n",
        "Data for the lab should be drawn from the 2020 American National Election Studies (ANES). You can access this data at [https://electionstudies.org](https://electionstudies.org). This is the official site of the ANES, a project that has [been ongoing since](https://en.wikipedia.org/wiki/American_National_Election_Studies) 1948, and federally funded by the National Science Foundation since 1977. \r\n",
        "\r\n",
        "To access the data, you will need to register for an account, confirm this account, and then login. The data that you need should come from the **2020 Time Series Study**.\r\n",
        "\r\n",
        "You will note that there are two forms of data that are available, data that is stored in a `.dta` format, and data that is stored in a `.sav` format. Both of these are proprietary data formats (`.dta` for STATA, and `.sav` for SPSS). You will need to find an appropriate library to read this data into R; we recommend that you find a package that is within the \"tidyverse\". \r\n",
        "\r\n",
        "While you're at the ANES website, you will also want to download the codebook, because all of the variables are marked as something like, `V200002` -- which isn't very descriptive without the codebook. \r\n",
        "\r\n",
        "For a glimpse into some of the intricacies that go into the design of this study, take a look at the introduction to the codebook.  \r\n",
        "\r\n",
        "# The Research Questions\r\n",
        "\r\n",
        "The research question for each of the three parts of the lab are as follows:\r\n",
        "\r\n",
        "1. Are Democratic voters older or younger than Republican voters in 2020?\r\n",
        "2. Are Democratic voters more enthusiastic about Joe Biden or Kamala Harris?\r\n",
        "3. Are survey respondents who have had someone in their home infected by COVID-19 more likely to disapprove of the way their governor is handling the pandemic?\r\n",
        "\r\n",
        "# Report Guidelines \r\n",
        "\r\n",
        "## General\r\n",
        "For each of the three research questions, you will create a pdf created by a separate source .Rmd file.\r\n",
        "\r\n",
        "- Each report should be a fully contained argument that does not rely on arguments made in other reports. \r\n",
        "- Each report should be no more than 3 pages in standard latex formatting (i.e. `output: pdf_document`)\r\n",
        "- Follow the .Rmd template that we have created for each question, using the prompts to guide you through the parts of an analysis.  Make sure you fill in each prompt with all information requested.\r\n",
        "- Each report should contain either a plot or a table that advances the argument. \r\n",
        "\r\n",
        "## Introduction\r\n",
        "Begin each report with an introduction to motivate the analysis.\r\n",
        "\r\n",
        "- Introduce the topic area and explain why the research question is interesting.\r\n",
        "- The introduction must \"do work,\" connecting the general topic to the specific techniques in the report.\r\n",
        "  \r\n",
        "## Visual Design\r\n",
        "Any plots or tables that you include must follow basic principles of visual design.\r\n",
        "\r\n",
        "- A plot/figure must have a title that is informative.\r\n",
        "- Variables must be labeled in plain language. As an example, `v20002` does not work for a label.\r\n",
        "- A plot should have a good ratio of information to ink / space on the page.  Do not select a large or complicated plot when a simple table conveys the same information directly.\r\n",
        "- Do not include any plot (or R output in general), that you do not discuss in your narrative.\r\n",
        "- The code that makes your plot/figure should be included in your report `.Rmd` file, but should not be shown in your final report. To accomplish this, you can use an `echo=FALSE` argument in the code chunk that produces the plot/figure.\r\n",
        "\r\n",
        "## Data Wrangling \r\n",
        "To answer each research question, you will have to clean, tidy, and structure the data (A.K.A. wrangle). \r\n",
        "\r\n",
        "- The code to wrangle data should be included in your report `.Rmd` file, but should not be shown in your final report. To accomplish this, you can use an `echo=FALSE` argument for the code chunk that does the wrangling. \r\n",
        "- While we do not want to prohibit you from using additional tools for data manipulation, you should be able to complete this lab with no more than the base `stats` library, plus `dplyr` and `ggplot2` for data manipulation and plotting. Other tools within the tidyverse are available to use, but don't feel like you have to search them out. \r\n",
        "- You will learn more by writing your own function than you would searching for a package that does one thing for your report.\r\n",
        "\r\n",
        "## Hypothesis Testing\r\n",
        "To answer each research question, you will have to execute one of the statistical tests from the course.\r\n",
        "\r\n",
        "- The code that executes your test *should* be shown in your report, because it makes very clear the specific test that you're conducting.\r\n",
        "- You need to argue, from the statistical principles of the course, why the test you are conducting is the *most appropriate* way to answer the research question. \r\n",
        "- In addition, list every assumption from your test, and evaluate whether the data generating process actually meets this assumption.\r\n",
        "- If you identify problems with some assumptions for your test, that does not mean that you should abandon the analysis or hide the problem. If these \"limitations\" exist, please describe them honestly, and provide your interpretation of the consequences for your test.\r\n",
        "- While you can choose to display the results of your test in the report, you also *certainly* need to write about these results. This should be accomplished using [inline code chunks](https://bookdown.org/yihui/rmarkdown-cookbook/r-code.html), rather than by hard-coding / hard-writing output into your written report. An example of this is included in `lab_1_example_solution.Rmd`. \r\n",
        "\r\n",
        "## Test, results and interpretation\r\n",
        "\r\n",
        "- Discuss the practical significance of your results and include a measure of effect size appropriate to your variables.\r\n",
        "- Explain the main takeaway of your analysis and how it relates to the broader context you identified in the introduction."
      ]
    },
    {
      "cell_type": "markdown",
      "metadata": {
        "id": "d7uGOa7CjZiL"
      },
      "source": [
        "# Data Loading and Wrangling"
      ]
    },
    {
      "cell_type": "code",
      "metadata": {
        "colab": {
          "base_uri": "https://localhost:8080/"
        },
        "id": "StG_NdsnjgOp",
        "outputId": "fd40ccd5-2792-46e1-f495-3d00ffe72df0"
      },
      "source": [
        "install.packages(\"tidyverse\")"
      ],
      "execution_count": null,
      "outputs": [
        {
          "output_type": "stream",
          "text": [
            "Installing package into ‘/usr/local/lib/R/site-library’\n",
            "(as ‘lib’ is unspecified)\n",
            "\n"
          ],
          "name": "stderr"
        }
      ]
    },
    {
      "cell_type": "code",
      "metadata": {
        "colab": {
          "base_uri": "https://localhost:8080/",
          "height": 95
        },
        "id": "HYfr40Mulv7y",
        "outputId": "90170883-951d-4629-d486-673b7ccace1a"
      },
      "source": [
        "data<- read_dta(\"anes_timeseries_2020_stata_20210211.dta\")"
      ],
      "execution_count": null,
      "outputs": [
        {
          "output_type": "error",
          "ename": "ERROR",
          "evalue": "ignored",
          "traceback": [
            "Error in read_dta(\"anes_timeseries_2020_stata_20210211.dta\"): could not find function \"read_dta\"\nTraceback:\n"
          ]
        }
      ]
    },
    {
      "cell_type": "markdown",
      "metadata": {
        "id": "Q7GU9d7Pjg6I"
      },
      "source": [
        "# Question 1: Are Democratic voters older or younger than Republican voters in 2020?"
      ]
    },
    {
      "cell_type": "code",
      "metadata": {
        "colab": {
          "base_uri": "https://localhost:8080/",
          "height": 129
        },
        "id": "a37-JShAGDWr",
        "outputId": "bea857a4-bea7-46f2-8797-95fc8e0262ae"
      },
      "source": [
        "#Load libararies. For some reason I get a error in Collab the code in {}\r\n",
        "{r load packages, echo=TRUE, warning=FALSE, message=FALSE}\r\n",
        "library(dplyr)\r\n",
        "library(ggplot2) \r\n",
        "library(tidyverse)\r\n",
        "theme_set(theme_minimal())"
      ],
      "execution_count": null,
      "outputs": [
        {
          "output_type": "error",
          "ename": "ERROR",
          "evalue": "ignored",
          "traceback": [
            "Error in parse(text = x, srcfile = src): <text>:1:4: unexpected symbol\n1: {r load\n       ^\nTraceback:\n"
          ]
        }
      ]
    },
    {
      "cell_type": "code",
      "metadata": {
        "colab": {
          "base_uri": "https://localhost:8080/",
          "height": 146
        },
        "id": "20G6ukFQGDaR",
        "outputId": "8cc3111b-90e5-4c4f-e18f-8ef6ef632454"
      },
      "source": [
        "# Load dataset\r\n",
        "{r load and clean data, echo=FALSE, warning=TRUE, message=FALSE}\r\n",
        "# input Stata file\r\n",
        "library(haven)\r\n",
        "anes_timeseries_2020_stata_20210211 <- read_dta(\"anes_timeseries_2020_stata_20210211.dta\")\r\n",
        "view(anes_timeseries_2020_stata_20210211)"
      ],
      "execution_count": null,
      "outputs": [
        {
          "output_type": "error",
          "ename": "ERROR",
          "evalue": "ignored",
          "traceback": [
            "Error in parse(text = x, srcfile = src): <text>:2:4: unexpected symbol\n1: # Load dataset\n2: {r load\n      ^\nTraceback:\n"
          ]
        }
      ]
    },
    {
      "cell_type": "code",
      "metadata": {
        "colab": {
          "base_uri": "https://localhost:8080/",
          "height": 303
        },
        "id": "NI0iakrQGDeb",
        "outputId": "5f3fdb55-8945-43d0-abbe-b2ee003e59c4"
      },
      "source": [
        "head(anes_timeseries_2020_stata_20210211)"
      ],
      "execution_count": null,
      "outputs": [
        {
          "output_type": "display_data",
          "data": {
            "text/plain": [
              "  version                     V200001 V160001_orig V200002 V200003 V200004\n",
              "1 ANES2020TimeSeries_20210211 200015  401318       3       2       -2     \n",
              "2 ANES2020TimeSeries_20210211 200022  300261       3       2       -2     \n",
              "3 ANES2020TimeSeries_20210211 200039  400181       3       2       -2     \n",
              "4 ANES2020TimeSeries_20210211 200046  300171       3       2       -2     \n",
              "5 ANES2020TimeSeries_20210211 200053  405145       3       2       -2     \n",
              "6 ANES2020TimeSeries_20210211 200060  400374       3       2       -2     \n",
              "  V200005 V200010a  V200010b V200010c ⋯ V201643 V201644 V201645 V201646 V201647\n",
              "1 -2      1.1782979 2         59      ⋯  1      6       3       1       2      \n",
              "2 -2      1.4055933 2        126      ⋯ -1      2       4       2       1      \n",
              "3 -2      0.4917192 1         91      ⋯ -1      6       1       1       2      \n",
              "4 -2      0.6454800 2        129      ⋯  1      4       1       2       1      \n",
              "5 -2      0.9083025 1         73      ⋯ -1      6       1       1       2      \n",
              "6 -2      0.3608382 2         87      ⋯ -1      8       3       1       2      \n",
              "  V201648 V201649 V201650 V201651 V201652\n",
              "1 5       1       5       1       -2     \n",
              "2 5       2       5       3       -2     \n",
              "3 5       1       5       3       -2     \n",
              "4 5       2       5       1       -2     \n",
              "5 4       1       5       2       -2     \n",
              "6 5       2       5       4       -2     "
            ],
            "text/latex": "A tibble: 6 × 719\n\\begin{tabular}{lllllllllllllllllllll}\n version & V200001 & V160001\\_orig & V200002 & V200003 & V200004 & V200005 & V200010a & V200010b & V200010c & ⋯ & V201643 & V201644 & V201645 & V201646 & V201647 & V201648 & V201649 & V201650 & V201651 & V201652\\\\\n <chr> & <dbl> & <dbl+lbl> & <dbl+lbl> & <dbl+lbl> & <dbl+lbl> & <dbl+lbl> & <dbl> & <dbl> & <dbl> & ⋯ & <dbl+lbl> & <dbl+lbl> & <dbl+lbl> & <dbl+lbl> & <dbl+lbl> & <dbl+lbl> & <dbl+lbl> & <dbl+lbl> & <dbl+lbl> & <dbl+lbl>\\\\\n\\hline\n\t ANES2020TimeSeries\\_20210211 & 200015 & 401318 & 3 & 2 & -2 & -2 & 1.1782979 & 2 &  59 & ⋯ &  1 & 6 & 3 & 1 & 2 & 5 & 1 & 5 & 1 & -2\\\\\n\t ANES2020TimeSeries\\_20210211 & 200022 & 300261 & 3 & 2 & -2 & -2 & 1.4055933 & 2 & 126 & ⋯ & -1 & 2 & 4 & 2 & 1 & 5 & 2 & 5 & 3 & -2\\\\\n\t ANES2020TimeSeries\\_20210211 & 200039 & 400181 & 3 & 2 & -2 & -2 & 0.4917192 & 1 &  91 & ⋯ & -1 & 6 & 1 & 1 & 2 & 5 & 1 & 5 & 3 & -2\\\\\n\t ANES2020TimeSeries\\_20210211 & 200046 & 300171 & 3 & 2 & -2 & -2 & 0.6454800 & 2 & 129 & ⋯ &  1 & 4 & 1 & 2 & 1 & 5 & 2 & 5 & 1 & -2\\\\\n\t ANES2020TimeSeries\\_20210211 & 200053 & 405145 & 3 & 2 & -2 & -2 & 0.9083025 & 1 &  73 & ⋯ & -1 & 6 & 1 & 1 & 2 & 4 & 1 & 5 & 2 & -2\\\\\n\t ANES2020TimeSeries\\_20210211 & 200060 & 400374 & 3 & 2 & -2 & -2 & 0.3608382 & 2 &  87 & ⋯ & -1 & 8 & 3 & 1 & 2 & 5 & 2 & 5 & 4 & -2\\\\\n\\end{tabular}\n",
            "text/markdown": "\nA tibble: 6 × 719\n\n| version &lt;chr&gt; | V200001 &lt;dbl&gt; | V160001_orig &lt;dbl+lbl&gt; | V200002 &lt;dbl+lbl&gt; | V200003 &lt;dbl+lbl&gt; | V200004 &lt;dbl+lbl&gt; | V200005 &lt;dbl+lbl&gt; | V200010a &lt;dbl&gt; | V200010b &lt;dbl&gt; | V200010c &lt;dbl&gt; | ⋯ ⋯ | V201643 &lt;dbl+lbl&gt; | V201644 &lt;dbl+lbl&gt; | V201645 &lt;dbl+lbl&gt; | V201646 &lt;dbl+lbl&gt; | V201647 &lt;dbl+lbl&gt; | V201648 &lt;dbl+lbl&gt; | V201649 &lt;dbl+lbl&gt; | V201650 &lt;dbl+lbl&gt; | V201651 &lt;dbl+lbl&gt; | V201652 &lt;dbl+lbl&gt; |\n|---|---|---|---|---|---|---|---|---|---|---|---|---|---|---|---|---|---|---|---|---|\n| ANES2020TimeSeries_20210211 | 200015 | 401318 | 3 | 2 | -2 | -2 | 1.1782979 | 2 |  59 | ⋯ |  1 | 6 | 3 | 1 | 2 | 5 | 1 | 5 | 1 | -2 |\n| ANES2020TimeSeries_20210211 | 200022 | 300261 | 3 | 2 | -2 | -2 | 1.4055933 | 2 | 126 | ⋯ | -1 | 2 | 4 | 2 | 1 | 5 | 2 | 5 | 3 | -2 |\n| ANES2020TimeSeries_20210211 | 200039 | 400181 | 3 | 2 | -2 | -2 | 0.4917192 | 1 |  91 | ⋯ | -1 | 6 | 1 | 1 | 2 | 5 | 1 | 5 | 3 | -2 |\n| ANES2020TimeSeries_20210211 | 200046 | 300171 | 3 | 2 | -2 | -2 | 0.6454800 | 2 | 129 | ⋯ |  1 | 4 | 1 | 2 | 1 | 5 | 2 | 5 | 1 | -2 |\n| ANES2020TimeSeries_20210211 | 200053 | 405145 | 3 | 2 | -2 | -2 | 0.9083025 | 1 |  73 | ⋯ | -1 | 6 | 1 | 1 | 2 | 4 | 1 | 5 | 2 | -2 |\n| ANES2020TimeSeries_20210211 | 200060 | 400374 | 3 | 2 | -2 | -2 | 0.3608382 | 2 |  87 | ⋯ | -1 | 8 | 3 | 1 | 2 | 5 | 2 | 5 | 4 | -2 |\n\n",
            "text/html": [
              "<table class=\"dataframe\">\n",
              "<caption>A tibble: 6 × 719</caption>\n",
              "<thead>\n",
              "\t<tr><th scope=col>version</th><th scope=col>V200001</th><th scope=col>V160001_orig</th><th scope=col>V200002</th><th scope=col>V200003</th><th scope=col>V200004</th><th scope=col>V200005</th><th scope=col>V200010a</th><th scope=col>V200010b</th><th scope=col>V200010c</th><th scope=col>⋯</th><th scope=col>V201643</th><th scope=col>V201644</th><th scope=col>V201645</th><th scope=col>V201646</th><th scope=col>V201647</th><th scope=col>V201648</th><th scope=col>V201649</th><th scope=col>V201650</th><th scope=col>V201651</th><th scope=col>V201652</th></tr>\n",
              "\t<tr><th scope=col>&lt;chr&gt;</th><th scope=col>&lt;dbl&gt;</th><th scope=col>&lt;dbl+lbl&gt;</th><th scope=col>&lt;dbl+lbl&gt;</th><th scope=col>&lt;dbl+lbl&gt;</th><th scope=col>&lt;dbl+lbl&gt;</th><th scope=col>&lt;dbl+lbl&gt;</th><th scope=col>&lt;dbl&gt;</th><th scope=col>&lt;dbl&gt;</th><th scope=col>&lt;dbl&gt;</th><th scope=col>⋯</th><th scope=col>&lt;dbl+lbl&gt;</th><th scope=col>&lt;dbl+lbl&gt;</th><th scope=col>&lt;dbl+lbl&gt;</th><th scope=col>&lt;dbl+lbl&gt;</th><th scope=col>&lt;dbl+lbl&gt;</th><th scope=col>&lt;dbl+lbl&gt;</th><th scope=col>&lt;dbl+lbl&gt;</th><th scope=col>&lt;dbl+lbl&gt;</th><th scope=col>&lt;dbl+lbl&gt;</th><th scope=col>&lt;dbl+lbl&gt;</th></tr>\n",
              "</thead>\n",
              "<tbody>\n",
              "\t<tr><td>ANES2020TimeSeries_20210211</td><td>200015</td><td>401318</td><td>3</td><td>2</td><td>-2</td><td>-2</td><td>1.1782979</td><td>2</td><td> 59</td><td>⋯</td><td> 1</td><td>6</td><td>3</td><td>1</td><td>2</td><td>5</td><td>1</td><td>5</td><td>1</td><td>-2</td></tr>\n",
              "\t<tr><td>ANES2020TimeSeries_20210211</td><td>200022</td><td>300261</td><td>3</td><td>2</td><td>-2</td><td>-2</td><td>1.4055933</td><td>2</td><td>126</td><td>⋯</td><td>-1</td><td>2</td><td>4</td><td>2</td><td>1</td><td>5</td><td>2</td><td>5</td><td>3</td><td>-2</td></tr>\n",
              "\t<tr><td>ANES2020TimeSeries_20210211</td><td>200039</td><td>400181</td><td>3</td><td>2</td><td>-2</td><td>-2</td><td>0.4917192</td><td>1</td><td> 91</td><td>⋯</td><td>-1</td><td>6</td><td>1</td><td>1</td><td>2</td><td>5</td><td>1</td><td>5</td><td>3</td><td>-2</td></tr>\n",
              "\t<tr><td>ANES2020TimeSeries_20210211</td><td>200046</td><td>300171</td><td>3</td><td>2</td><td>-2</td><td>-2</td><td>0.6454800</td><td>2</td><td>129</td><td>⋯</td><td> 1</td><td>4</td><td>1</td><td>2</td><td>1</td><td>5</td><td>2</td><td>5</td><td>1</td><td>-2</td></tr>\n",
              "\t<tr><td>ANES2020TimeSeries_20210211</td><td>200053</td><td>405145</td><td>3</td><td>2</td><td>-2</td><td>-2</td><td>0.9083025</td><td>1</td><td> 73</td><td>⋯</td><td>-1</td><td>6</td><td>1</td><td>1</td><td>2</td><td>4</td><td>1</td><td>5</td><td>2</td><td>-2</td></tr>\n",
              "\t<tr><td>ANES2020TimeSeries_20210211</td><td>200060</td><td>400374</td><td>3</td><td>2</td><td>-2</td><td>-2</td><td>0.3608382</td><td>2</td><td> 87</td><td>⋯</td><td>-1</td><td>8</td><td>3</td><td>1</td><td>2</td><td>5</td><td>2</td><td>5</td><td>4</td><td>-2</td></tr>\n",
              "</tbody>\n",
              "</table>\n"
            ]
          },
          "metadata": {
            "tags": []
          }
        }
      ]
    },
    {
      "cell_type": "code",
      "metadata": {
        "id": "drxsL1h5GDmi"
      },
      "source": [
        ""
      ],
      "execution_count": null,
      "outputs": []
    },
    {
      "cell_type": "markdown",
      "metadata": {
        "id": "Mv2ZLy9lHf8x"
      },
      "source": [
        "## Importance and Context\r\n",
        "<!-- Explain why the reader should care about your research question. -->\r\n",
        "Understanding whether Democratic voters are older or younger than Republican voters is an important question to ask as the issues that a group of voters care about may differ somewhat by age. For example, younger voters may care more about job security or climate change while older voters may care more about Medicare or Social Security issues. Therefore, it is informative to understand if Democratic voters are older, younger or the same as Republican voters."
      ]
    },
    {
      "cell_type": "code",
      "metadata": {
        "id": "mXpJEvJiHbjW"
      },
      "source": [
        ""
      ],
      "execution_count": null,
      "outputs": []
    },
    {
      "cell_type": "markdown",
      "metadata": {
        "id": "ZhYpUU9DHsUx"
      },
      "source": [
        "## Description of Data\r\n",
        "<!-- Explain how your research question is operationalized, including whether the variables you create are appropriate to study the concepts in question. -->\r\n",
        "The data comes from The American National Election Studies (ANES) 2020 pre-election survey of voters in the United States. This data was made available on Feb. 11, 2021 as a preliminary release. \r\n",
        "\r\n",
        "Interviews were conducted from August 2020 until Election Day (Tuesday, November 3). It is worth noting that due to the COVID-19 pandemic, no face-to-face interviews occurred, instead, it was a mixed-mode study using Internet, video and telephone interviews.\r\n",
        "\r\n",
        "Respondents come from two groups: (1) Respondents that participated in the 2016 ANES survey and (2) a \"Fresh Cross-Section for 2020.\" The target population size was 231 million non-institutional U.S. citizens age 18 or older living in the 50 US states or the District of Columbia. \r\n",
        "\r\n",
        "The Fresh Cross-Section sample was a random draw from the USPS addresses database, with each draw having equal probability of selection. Each selected address was sent a series of letters to recruit only one household member.\r\n",
        "\r\n",
        "The 2016 respondents were recruited under the same methodology [Greg to check this]\r\n",
        "\r\n",
        "The sampling methodology therefore appears to be independent and identically distributed (IID). This will be discussed later when selecting the appropriate Test.\r\n",
        "\r\n",
        "The  variables we used to to address the question of whether Democratic voters are older or younger than Republican voters provide information on the respondent's political party affiliation (Democrat or Republican) and age. We selected two variables from the survey to acquire this information:\r\n",
        "\r\n",
        "(1) Registered Political party affiliation (Variable code V201018) is from the question; \"What political party are you registered with, if any?\" Although a registered Democratic or Republican voter is likely a \"Democratic voter\" there is a chance that they are registered but will actually not vote. One way to establish a group of registered Democratic or Republican voters is to select people who are registered as Democratic or Republican and think of themselves as Democratic or Republican respectively. To do this, we applied the answer from another question in the survey that asks \"Generally speaking, do you usually think of yourself as [a Democrat, a Republican / a Republican, a Democrat], an independent, or what?\". Only respondents how are registered with one political party and who self identify with that same party are to be included in the sample group.\r\n",
        "\r\n",
        "\r\n",
        "(2) Age (Variable code V201507x) is calculated based on asking the respondent providing their birthday. If the respondent is over 80, then a value of just 80 is provided. If the respondent does not provide their birthday, then a value of -9 is provided. We filtered out respondents with -9 values."
      ]
    },
    {
      "cell_type": "code",
      "metadata": {
        "colab": {
          "base_uri": "https://localhost:8080/",
          "height": 283
        },
        "id": "r8XkVOP_Hbma",
        "outputId": "994f9d92-beba-46c3-a904-c5fd86a747b9"
      },
      "source": [
        "# Making dataframe needed for Q1. Notice that I make a new variable called Pol_Flag that checks to see if respondents who are Registered Democratic\r\n",
        "# also self-identify with being Democratic thus Pol_Flag is = 0.\r\n",
        "# Then filter to only have rows with Age above 0, Pol_Flag = = 0, and only Democratic or Repulican respondents \r\n",
        "Data <- anes_timeseries_2020_stata_20210211 %>%\r\n",
        "  dplyr::select(V201018, V201228, V201507x) %>% \r\n",
        "  rename(\r\n",
        "    Political_Party_Registered = V201018,\r\n",
        "    Political_Party_Self_ID = V201228,\r\n",
        "    Age = V201507x) %>% \r\n",
        "  mutate(Pol_Flag = Political_Party_Registered - Political_Party_Self_ID) %>% \r\n",
        "  filter(Age > 0) %>% \r\n",
        "  filter(Pol_Flag == 0) %>% \r\n",
        "  filter(Political_Party_Registered ==1 | Political_Party_Registered == 2 )\r\n",
        "head(Data)"
      ],
      "execution_count": null,
      "outputs": [
        {
          "output_type": "display_data",
          "data": {
            "text/plain": [
              "  Political_Party_Registered Political_Party_Self_ID Age Pol_Flag\n",
              "1 2                          2                       46  0       \n",
              "2 2                          2                       41  0       \n",
              "3 1                          1                       37  0       \n",
              "4 1                          1                       55  0       \n",
              "5 2                          2                       31  0       \n",
              "6 1                          1                       80  0       "
            ],
            "text/latex": "A tibble: 6 × 4\n\\begin{tabular}{llll}\n Political\\_Party\\_Registered & Political\\_Party\\_Self\\_ID & Age & Pol\\_Flag\\\\\n <dbl+lbl> & <dbl+lbl> & <dbl+lbl> & <dbl>\\\\\n\\hline\n\t 2 & 2 & 46 & 0\\\\\n\t 2 & 2 & 41 & 0\\\\\n\t 1 & 1 & 37 & 0\\\\\n\t 1 & 1 & 55 & 0\\\\\n\t 2 & 2 & 31 & 0\\\\\n\t 1 & 1 & 80 & 0\\\\\n\\end{tabular}\n",
            "text/markdown": "\nA tibble: 6 × 4\n\n| Political_Party_Registered &lt;dbl+lbl&gt; | Political_Party_Self_ID &lt;dbl+lbl&gt; | Age &lt;dbl+lbl&gt; | Pol_Flag &lt;dbl&gt; |\n|---|---|---|---|\n| 2 | 2 | 46 | 0 |\n| 2 | 2 | 41 | 0 |\n| 1 | 1 | 37 | 0 |\n| 1 | 1 | 55 | 0 |\n| 2 | 2 | 31 | 0 |\n| 1 | 1 | 80 | 0 |\n\n",
            "text/html": [
              "<table class=\"dataframe\">\n",
              "<caption>A tibble: 6 × 4</caption>\n",
              "<thead>\n",
              "\t<tr><th scope=col>Political_Party_Registered</th><th scope=col>Political_Party_Self_ID</th><th scope=col>Age</th><th scope=col>Pol_Flag</th></tr>\n",
              "\t<tr><th scope=col>&lt;dbl+lbl&gt;</th><th scope=col>&lt;dbl+lbl&gt;</th><th scope=col>&lt;dbl+lbl&gt;</th><th scope=col>&lt;dbl&gt;</th></tr>\n",
              "</thead>\n",
              "<tbody>\n",
              "\t<tr><td>2</td><td>2</td><td>46</td><td>0</td></tr>\n",
              "\t<tr><td>2</td><td>2</td><td>41</td><td>0</td></tr>\n",
              "\t<tr><td>1</td><td>1</td><td>37</td><td>0</td></tr>\n",
              "\t<tr><td>1</td><td>1</td><td>55</td><td>0</td></tr>\n",
              "\t<tr><td>2</td><td>2</td><td>31</td><td>0</td></tr>\n",
              "\t<tr><td>1</td><td>1</td><td>80</td><td>0</td></tr>\n",
              "</tbody>\n",
              "</table>\n"
            ]
          },
          "metadata": {
            "tags": []
          }
        }
      ]
    },
    {
      "cell_type": "code",
      "metadata": {
        "colab": {
          "base_uri": "https://localhost:8080/",
          "height": 283
        },
        "id": "EjtT-0ueHbpj",
        "outputId": "38c3c319-8cac-4df7-ff8e-22381a34af4f"
      },
      "source": [
        "# Change value in the dataframe for Democratic from 1 to 'Democratic' and 2 to 'Repulican'\r\n",
        "Data$Political_Party <- ifelse(Data$Political_Party_Registered == 1, 'Democratic', 'Republican')\r\n",
        "head(Data)"
      ],
      "execution_count": null,
      "outputs": [
        {
          "output_type": "display_data",
          "data": {
            "text/plain": [
              "  Political_Party_Registered Political_Party_Self_ID Age Pol_Flag\n",
              "1 2                          2                       46  0       \n",
              "2 2                          2                       41  0       \n",
              "3 1                          1                       37  0       \n",
              "4 1                          1                       55  0       \n",
              "5 2                          2                       31  0       \n",
              "6 1                          1                       80  0       \n",
              "  Political_Party\n",
              "1 Republican     \n",
              "2 Republican     \n",
              "3 Democratic     \n",
              "4 Democratic     \n",
              "5 Republican     \n",
              "6 Democratic     "
            ],
            "text/latex": "A tibble: 6 × 5\n\\begin{tabular}{lllll}\n Political\\_Party\\_Registered & Political\\_Party\\_Self\\_ID & Age & Pol\\_Flag & Political\\_Party\\\\\n <dbl+lbl> & <dbl+lbl> & <dbl+lbl> & <dbl> & <chr>\\\\\n\\hline\n\t 2 & 2 & 46 & 0 & Republican\\\\\n\t 2 & 2 & 41 & 0 & Republican\\\\\n\t 1 & 1 & 37 & 0 & Democratic\\\\\n\t 1 & 1 & 55 & 0 & Democratic\\\\\n\t 2 & 2 & 31 & 0 & Republican\\\\\n\t 1 & 1 & 80 & 0 & Democratic\\\\\n\\end{tabular}\n",
            "text/markdown": "\nA tibble: 6 × 5\n\n| Political_Party_Registered &lt;dbl+lbl&gt; | Political_Party_Self_ID &lt;dbl+lbl&gt; | Age &lt;dbl+lbl&gt; | Pol_Flag &lt;dbl&gt; | Political_Party &lt;chr&gt; |\n|---|---|---|---|---|\n| 2 | 2 | 46 | 0 | Republican |\n| 2 | 2 | 41 | 0 | Republican |\n| 1 | 1 | 37 | 0 | Democratic |\n| 1 | 1 | 55 | 0 | Democratic |\n| 2 | 2 | 31 | 0 | Republican |\n| 1 | 1 | 80 | 0 | Democratic |\n\n",
            "text/html": [
              "<table class=\"dataframe\">\n",
              "<caption>A tibble: 6 × 5</caption>\n",
              "<thead>\n",
              "\t<tr><th scope=col>Political_Party_Registered</th><th scope=col>Political_Party_Self_ID</th><th scope=col>Age</th><th scope=col>Pol_Flag</th><th scope=col>Political_Party</th></tr>\n",
              "\t<tr><th scope=col>&lt;dbl+lbl&gt;</th><th scope=col>&lt;dbl+lbl&gt;</th><th scope=col>&lt;dbl+lbl&gt;</th><th scope=col>&lt;dbl&gt;</th><th scope=col>&lt;chr&gt;</th></tr>\n",
              "</thead>\n",
              "<tbody>\n",
              "\t<tr><td>2</td><td>2</td><td>46</td><td>0</td><td>Republican</td></tr>\n",
              "\t<tr><td>2</td><td>2</td><td>41</td><td>0</td><td>Republican</td></tr>\n",
              "\t<tr><td>1</td><td>1</td><td>37</td><td>0</td><td>Democratic</td></tr>\n",
              "\t<tr><td>1</td><td>1</td><td>55</td><td>0</td><td>Democratic</td></tr>\n",
              "\t<tr><td>2</td><td>2</td><td>31</td><td>0</td><td>Republican</td></tr>\n",
              "\t<tr><td>1</td><td>1</td><td>80</td><td>0</td><td>Democratic</td></tr>\n",
              "</tbody>\n",
              "</table>\n"
            ]
          },
          "metadata": {
            "tags": []
          }
        }
      ]
    },
    {
      "cell_type": "markdown",
      "metadata": {
        "id": "jHJr8nWmPcjj"
      },
      "source": [
        "There are 1,1411 Democrats respondents and 1011 Republican respondents with an associated age value"
      ]
    },
    {
      "cell_type": "code",
      "metadata": {
        "colab": {
          "base_uri": "https://localhost:8080/",
          "height": 159
        },
        "id": "KYWiv9WsHbwr",
        "outputId": "2ab7e99b-0fc1-4964-fc34-2032b311ebb5"
      },
      "source": [
        "Data %>% \r\n",
        "  group_by (Political_Party) %>% \r\n",
        "  summarize(n()) %>% \r\n",
        "  arrange(Political_Party)"
      ],
      "execution_count": null,
      "outputs": [
        {
          "output_type": "display_data",
          "data": {
            "text/plain": [
              "  Political_Party n() \n",
              "1 Democratic      1411\n",
              "2 Republican      1011"
            ],
            "text/latex": "A tibble: 2 × 2\n\\begin{tabular}{ll}\n Political\\_Party & n()\\\\\n <chr> & <int>\\\\\n\\hline\n\t Democratic & 1411\\\\\n\t Republican & 1011\\\\\n\\end{tabular}\n",
            "text/markdown": "\nA tibble: 2 × 2\n\n| Political_Party &lt;chr&gt; | n() &lt;int&gt; |\n|---|---|\n| Democratic | 1411 |\n| Republican | 1011 |\n\n",
            "text/html": [
              "<table class=\"dataframe\">\n",
              "<caption>A tibble: 2 × 2</caption>\n",
              "<thead>\n",
              "\t<tr><th scope=col>Political_Party</th><th scope=col>n()</th></tr>\n",
              "\t<tr><th scope=col>&lt;chr&gt;</th><th scope=col>&lt;int&gt;</th></tr>\n",
              "</thead>\n",
              "<tbody>\n",
              "\t<tr><td>Democratic</td><td>1411</td></tr>\n",
              "\t<tr><td>Republican</td><td>1011</td></tr>\n",
              "</tbody>\n",
              "</table>\n"
            ]
          },
          "metadata": {
            "tags": []
          }
        }
      ]
    },
    {
      "cell_type": "markdown",
      "metadata": {
        "id": "3ocVuLGHPh2G"
      },
      "source": [
        "<!-- What are some basic features of the data distribution? --> \r\n",
        "Looking at the distribution of the data, it appears somewhat normal thought with a skew as there are many respondents whose age is labeled as 80 (these include people over 80 years old too)."
      ]
    },
    {
      "cell_type": "code",
      "metadata": {
        "colab": {
          "base_uri": "https://localhost:8080/",
          "height": 993
        },
        "id": "qS9hoZvuP0FI",
        "outputId": "a41d39d4-f52c-4c23-e074-e9cb0fe2a449"
      },
      "source": [
        "Dem_data <- Data %>% \r\n",
        "  filter(Political_Party == 'Democratic') %>% \r\n",
        "  ggplot() +\r\n",
        "  aes(x = Age) +\r\n",
        "  geom_histogram() + \r\n",
        "  labs (title = 'Registered Democratic Histogram',\r\n",
        "        x = 'Age',\r\n",
        "        y = 'Count')\r\n",
        "\r\n",
        "Rep_data <- Data %>% \r\n",
        "  filter(Political_Party == 'Republican') %>% \r\n",
        "  ggplot() +\r\n",
        "  aes(x = Age) +\r\n",
        "  geom_histogram() +\r\n",
        "  labs (title = 'Registered Repuplican Histogram',\r\n",
        "        x = 'Age',\r\n",
        "        y = 'Count')\r\n",
        "Dem_data \r\n",
        "Rep_data"
      ],
      "execution_count": null,
      "outputs": [
        {
          "output_type": "stream",
          "text": [
            "Don't know how to automatically pick scale for object of type haven_labelled/vctrs_vctr/double. Defaulting to continuous.\n",
            "\n",
            "`stat_bin()` using `bins = 30`. Pick better value with `binwidth`.\n",
            "\n",
            "Don't know how to automatically pick scale for object of type haven_labelled/vctrs_vctr/double. Defaulting to continuous.\n",
            "\n",
            "`stat_bin()` using `bins = 30`. Pick better value with `binwidth`.\n",
            "\n"
          ],
          "name": "stderr"
        },
        {
          "output_type": "display_data",
          "data": {
            "image/png": "[encoded data removed]",
            "text/plain": [
              "plot without title"
            ]
          },
          "metadata": {
            "tags": [],
            "image/png": {
              "width": 420,
              "height": 420
            }
          }
        },
        {
          "output_type": "display_data",
          "data": {
            "image/png": "[encoded data removed]",
            "text/plain": [
              "plot without title"
            ]
          },
          "metadata": {
            "tags": [],
            "image/png": {
              "width": 420,
              "height": 420
            }
          }
        }
      ]
    },
    {
      "cell_type": "markdown",
      "metadata": {
        "id": "H9oBhEf9Q2h7"
      },
      "source": [
        "<!-- What changes do you make to the data and why? --> \r\n",
        "As described above, we removed the Democratic or Republican respondents who do not have an associated age value.\r\n",
        "\r\n",
        "Also, to ensure our group most closely resempbled \"Democratic and Republican voters,\" we selected only registered voters who self identify with the same political party for which they are registered."
      ]
    },
    {
      "cell_type": "markdown",
      "metadata": {
        "id": "y3DAuEILQ7wT"
      },
      "source": [
        "## Most appropriate test \r\n",
        "<!-- Explain which test is the most appropriate to answer your question and why it is the most appropriate --> \r\n",
        "\r\n",
        "The most appropriate test is the unpaired t-test as we are comparing the average age between two different groups of people, Democrats and Republicans. Other tests such as the paird T-Test, Wicoxon signed-rank, or the sign test are only for paired data which this does not apply as there are two separate groups of respondents. The Wilcoxon rank-sum could be applied as an unpaired test however [FILL IN]\r\n",
        "\r\n",
        "The required assumptions for the unpaired t-test are:\r\n",
        "\r\n",
        "1. Metric scale: Age, is a coded numeric so it is in metric scale.\r\n",
        "2. IID data - The data collection satisfies iid as discussed above.\r\n",
        "3. A \"not too unnormal\" distribution considering the sample size for both Democratic and Republican is over 1,000m it is large enough to rely on the Central Limit Theorem. Looking at the histograms above there is some skew at Age 80 because all respondents above 80 are labeled as 80; however, the large sample size (way above the minimum of 30) means we can rely on the Central Limit Theorem.\r\n",
        "\r\n"
      ]
    },
    {
      "cell_type": "markdown",
      "metadata": {
        "id": "vZkzCBKGRAIJ"
      },
      "source": [
        "## Test, results and interpretation\r\n",
        "The null hypothesis for the test is that the average age is the same between Democratic and Republican votors. The alternate hypothesis is that they are different (a two-tailed test)."
      ]
    },
    {
      "cell_type": "code",
      "metadata": {
        "colab": {
          "base_uri": "https://localhost:8080/",
          "height": 306
        },
        "id": "7fxaYwlvRBcv",
        "outputId": "cac16093-6d32-48c7-ab7d-c3e8b3a4fcbe"
      },
      "source": [
        "Data_test <-\r\n",
        "  Data %>% \r\n",
        "  filter (Political_Party == 'Democratic' | Political_Party == 'Republican')\r\n",
        "\r\n",
        "t.test(Data_test$Age ~ Data_test$Political_Party)\r\n",
        "wilcox.test(Data_test$Age ~ Data_test$Political_Party)"
      ],
      "execution_count": null,
      "outputs": [
        {
          "output_type": "display_data",
          "data": {
            "text/plain": [
              "\n",
              "\tWelch Two Sample t-test\n",
              "\n",
              "data:  Data_test$Age by Data_test$Political_Party\n",
              "t = -4.8546, df = 2233.6, p-value = 1.29e-06\n",
              "alternative hypothesis: true difference in means is not equal to 0\n",
              "95 percent confidence interval:\n",
              " -4.717110 -2.002642\n",
              "sample estimates:\n",
              "mean in group Democratic mean in group Republican \n",
              "                53.00709                 56.36696 \n"
            ]
          },
          "metadata": {
            "tags": []
          }
        },
        {
          "output_type": "display_data",
          "data": {
            "text/plain": [
              "\n",
              "\tWilcoxon rank sum test with continuity correction\n",
              "\n",
              "data:  Data_test$Age by Data_test$Political_Party\n",
              "W = 634090, p-value = 3.067e-06\n",
              "alternative hypothesis: true location shift is not equal to 0\n"
            ]
          },
          "metadata": {
            "tags": []
          }
        }
      ]
    },
    {
      "cell_type": "markdown",
      "metadata": {
        "id": "NFRUkedrRNTY"
      },
      "source": [
        "The test is highly statistically significant (p-value = 1.017e-07) which means we can reject the null hypothesis that the average age of Democrats and Republicans are equal.\r\n",
        "\r\n",
        "For a measure of practical significance, the mean difference in age is 3.36 years meaning that the average age of Republican voters is 3.36 years more than the average age of Democratic voters."
      ]
    },
    {
      "cell_type": "code",
      "metadata": {
        "colab": {
          "base_uri": "https://localhost:8080/",
          "height": 34
        },
        "id": "8_W4h6lfROP4",
        "outputId": "bfc6995b-478f-4b4a-fb62-1d0eb2967798"
      },
      "source": [
        "mean(Data_test$Age[Data_test$Political_Party == 'Republican']) - mean(Data_test$Age[Data_test$Political_Party == 'Democratic'])"
      ],
      "execution_count": null,
      "outputs": [
        {
          "output_type": "display_data",
          "data": {
            "text/plain": [
              "[1] 3.359876"
            ],
            "text/latex": "3.35987623035343",
            "text/markdown": "3.35987623035343",
            "text/html": [
              "3.35987623035343"
            ]
          },
          "metadata": {
            "tags": []
          }
        }
      ]
    },
    {
      "cell_type": "markdown",
      "metadata": {
        "id": "Cz43Ux87RVMo"
      },
      "source": [
        "The effect size is... [To be completed]"
      ]
    },
    {
      "cell_type": "markdown",
      "metadata": {
        "id": "N1jg3PYkjrrl"
      },
      "source": [
        "# Question 2: Are Democratic voters more enthusiastic about Joe Biden or Kamala Harris?"
      ]
    },
    {
      "cell_type": "markdown",
      "metadata": {
        "id": "NGuRRrW0j_lK"
      },
      "source": [
        "# Question 3: Are survey respondents who have had someone in their home infected by COVID-19 more likely to disapprove of the way their governor is handling the pandemic?\r\n"
      ]
    }
  ]
}